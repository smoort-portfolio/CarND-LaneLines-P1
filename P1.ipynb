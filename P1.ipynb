{
 "cells": [
  {
   "cell_type": "markdown",
   "metadata": {},
   "source": [
    "# Self-Driving Car Engineer Nanodegree\n",
    "\n",
    "\n",
    "## Project: **Finding Lane Lines on the Road** \n",
    "***\n",
    "In this project, you will use the tools you learned about in the lesson to identify lane lines on the road.  You can develop your pipeline on a series of individual images, and later apply the result to a video stream (really just a series of images). Check out the video clip \"raw-lines-example.mp4\" (also contained in this repository) to see what the output should look like after using the helper functions below. \n",
    "\n",
    "Once you have a result that looks roughly like \"raw-lines-example.mp4\", you'll need to get creative and try to average and/or extrapolate the line segments you've detected to map out the full extent of the lane lines.  You can see an example of the result you're going for in the video \"P1_example.mp4\".  Ultimately, you would like to draw just one line for the left side of the lane, and one for the right.\n",
    "\n",
    "In addition to implementing code, there is a brief writeup to complete. The writeup should be completed in a separate file, which can be either a markdown file or a pdf document. There is a [write up template](https://github.com/udacity/CarND-LaneLines-P1/blob/master/writeup_template.md) that can be used to guide the writing process. Completing both the code in the Ipython notebook and the writeup template will cover all of the [rubric points](https://review.udacity.com/#!/rubrics/322/view) for this project.\n",
    "\n",
    "---\n",
    "Let's have a look at our first image called 'test_images/solidWhiteRight.jpg'.  Run the 2 cells below (hit Shift-Enter or the \"play\" button above) to display the image.\n",
    "\n",
    "**Note: If, at any point, you encounter frozen display windows or other confounding issues, you can always start again with a clean slate by going to the \"Kernel\" menu above and selecting \"Restart & Clear Output\".**\n",
    "\n",
    "---"
   ]
  },
  {
   "cell_type": "markdown",
   "metadata": {},
   "source": [
    "**The tools you have are color selection, region of interest selection, grayscaling, Gaussian smoothing, Canny Edge Detection and Hough Tranform line detection.  You  are also free to explore and try other techniques that were not presented in the lesson.  Your goal is piece together a pipeline to detect the line segments in the image, then average/extrapolate them and draw them onto the image for display (as below).  Once you have a working pipeline, try it out on the video stream below.**\n",
    "\n",
    "---\n",
    "\n",
    "<figure>\n",
    " <img src=\"examples/line-segments-example.jpg\" width=\"380\" alt=\"Combined Image\" />\n",
    " <figcaption>\n",
    " <p></p> \n",
    " <p style=\"text-align: center;\"> Your output should look something like this (above) after detecting line segments using the helper functions below </p> \n",
    " </figcaption>\n",
    "</figure>\n",
    " <p></p> \n",
    "<figure>\n",
    " <img src=\"examples/laneLines_thirdPass.jpg\" width=\"380\" alt=\"Combined Image\" />\n",
    " <figcaption>\n",
    " <p></p> \n",
    " <p style=\"text-align: center;\"> Your goal is to connect/average/extrapolate line segments to get output like this</p> \n",
    " </figcaption>\n",
    "</figure>"
   ]
  },
  {
   "cell_type": "markdown",
   "metadata": {},
   "source": [
    "**Run the cell below to import some packages.  If you get an `import error` for a package you've already installed, try changing your kernel (select the Kernel menu above --> Change Kernel).  Still have problems?  Try relaunching Jupyter Notebook from the terminal prompt.  Also, consult the forums for more troubleshooting tips.**  "
   ]
  },
  {
   "cell_type": "markdown",
   "metadata": {},
   "source": [
    "## Import Packages"
   ]
  },
  {
   "cell_type": "code",
   "execution_count": 3,
   "metadata": {},
   "outputs": [],
   "source": [
    "#importing some useful packages\n",
    "import matplotlib.pyplot as plt\n",
    "import matplotlib.image as mpimg\n",
    "import numpy as np\n",
    "import cv2\n",
    "%matplotlib inline\n",
    "\n",
    "from scipy import stats"
   ]
  },
  {
   "cell_type": "markdown",
   "metadata": {},
   "source": [
    "## Read in an Image"
   ]
  },
  {
   "cell_type": "code",
   "execution_count": 4,
   "metadata": {},
   "outputs": [
    {
     "ename": "FileNotFoundError",
     "evalue": "[Errno 2] No such file or directory: 'test_images/solidWhiteRight.jpg'",
     "output_type": "error",
     "traceback": [
      "\u001b[0;31m---------------------------------------------------------------------------\u001b[0m",
      "\u001b[0;31mFileNotFoundError\u001b[0m                         Traceback (most recent call last)",
      "\u001b[0;32m<ipython-input-4-2b620861b715>\u001b[0m in \u001b[0;36m<module>\u001b[0;34m\u001b[0m\n\u001b[1;32m      1\u001b[0m \u001b[0;31m#reading in an image\u001b[0m\u001b[0;34m\u001b[0m\u001b[0;34m\u001b[0m\u001b[0m\n\u001b[0;32m----> 2\u001b[0;31m \u001b[0mimage\u001b[0m \u001b[0;34m=\u001b[0m \u001b[0mmpimg\u001b[0m\u001b[0;34m.\u001b[0m\u001b[0mimread\u001b[0m\u001b[0;34m(\u001b[0m\u001b[0;34m'test_images/solidWhiteRight.jpg'\u001b[0m\u001b[0;34m)\u001b[0m\u001b[0;34m\u001b[0m\u001b[0m\n\u001b[0m\u001b[1;32m      3\u001b[0m \u001b[0;34m\u001b[0m\u001b[0m\n\u001b[1;32m      4\u001b[0m \u001b[0;31m#printing out some stats and plotting\u001b[0m\u001b[0;34m\u001b[0m\u001b[0;34m\u001b[0m\u001b[0m\n\u001b[1;32m      5\u001b[0m \u001b[0mprint\u001b[0m\u001b[0;34m(\u001b[0m\u001b[0;34m'This image is:'\u001b[0m\u001b[0;34m,\u001b[0m \u001b[0mtype\u001b[0m\u001b[0;34m(\u001b[0m\u001b[0mimage\u001b[0m\u001b[0;34m)\u001b[0m\u001b[0;34m,\u001b[0m \u001b[0;34m'with dimensions:'\u001b[0m\u001b[0;34m,\u001b[0m \u001b[0mimage\u001b[0m\u001b[0;34m.\u001b[0m\u001b[0mshape\u001b[0m\u001b[0;34m)\u001b[0m\u001b[0;34m\u001b[0m\u001b[0m\n",
      "\u001b[0;32m~/miniconda3/envs/carnd-term1/lib/python3.5/site-packages/matplotlib/image.py\u001b[0m in \u001b[0;36mimread\u001b[0;34m(fname, format)\u001b[0m\n\u001b[1;32m   1225\u001b[0m \u001b[0;34m\u001b[0m\u001b[0m\n\u001b[1;32m   1226\u001b[0m     \u001b[0;32mif\u001b[0m \u001b[0mext\u001b[0m \u001b[0;32mnot\u001b[0m \u001b[0;32min\u001b[0m \u001b[0mhandlers\u001b[0m\u001b[0;34m:\u001b[0m\u001b[0;34m\u001b[0m\u001b[0m\n\u001b[0;32m-> 1227\u001b[0;31m         \u001b[0mim\u001b[0m \u001b[0;34m=\u001b[0m \u001b[0mpilread\u001b[0m\u001b[0;34m(\u001b[0m\u001b[0mfname\u001b[0m\u001b[0;34m)\u001b[0m\u001b[0;34m\u001b[0m\u001b[0m\n\u001b[0m\u001b[1;32m   1228\u001b[0m         \u001b[0;32mif\u001b[0m \u001b[0mim\u001b[0m \u001b[0;32mis\u001b[0m \u001b[0;32mNone\u001b[0m\u001b[0;34m:\u001b[0m\u001b[0;34m\u001b[0m\u001b[0m\n\u001b[1;32m   1229\u001b[0m             raise ValueError('Only know how to handle extensions: %s; '\n",
      "\u001b[0;32m~/miniconda3/envs/carnd-term1/lib/python3.5/site-packages/matplotlib/image.py\u001b[0m in \u001b[0;36mpilread\u001b[0;34m(fname)\u001b[0m\n\u001b[1;32m   1203\u001b[0m         \u001b[0;32mexcept\u001b[0m \u001b[0mImportError\u001b[0m\u001b[0;34m:\u001b[0m\u001b[0;34m\u001b[0m\u001b[0m\n\u001b[1;32m   1204\u001b[0m             \u001b[0;32mreturn\u001b[0m \u001b[0;32mNone\u001b[0m\u001b[0;34m\u001b[0m\u001b[0m\n\u001b[0;32m-> 1205\u001b[0;31m         \u001b[0;32mwith\u001b[0m \u001b[0mImage\u001b[0m\u001b[0;34m.\u001b[0m\u001b[0mopen\u001b[0m\u001b[0;34m(\u001b[0m\u001b[0mfname\u001b[0m\u001b[0;34m)\u001b[0m \u001b[0;32mas\u001b[0m \u001b[0mimage\u001b[0m\u001b[0;34m:\u001b[0m\u001b[0;34m\u001b[0m\u001b[0m\n\u001b[0m\u001b[1;32m   1206\u001b[0m             \u001b[0;32mreturn\u001b[0m \u001b[0mpil_to_array\u001b[0m\u001b[0;34m(\u001b[0m\u001b[0mimage\u001b[0m\u001b[0;34m)\u001b[0m\u001b[0;34m\u001b[0m\u001b[0m\n\u001b[1;32m   1207\u001b[0m \u001b[0;34m\u001b[0m\u001b[0m\n",
      "\u001b[0;32m~/miniconda3/envs/carnd-term1/lib/python3.5/site-packages/PIL/Image.py\u001b[0m in \u001b[0;36mopen\u001b[0;34m(fp, mode)\u001b[0m\n\u001b[1;32m   2528\u001b[0m \u001b[0;34m\u001b[0m\u001b[0m\n\u001b[1;32m   2529\u001b[0m     \u001b[0;32mif\u001b[0m \u001b[0mfilename\u001b[0m\u001b[0;34m:\u001b[0m\u001b[0;34m\u001b[0m\u001b[0m\n\u001b[0;32m-> 2530\u001b[0;31m         \u001b[0mfp\u001b[0m \u001b[0;34m=\u001b[0m \u001b[0mbuiltins\u001b[0m\u001b[0;34m.\u001b[0m\u001b[0mopen\u001b[0m\u001b[0;34m(\u001b[0m\u001b[0mfilename\u001b[0m\u001b[0;34m,\u001b[0m \u001b[0;34m\"rb\"\u001b[0m\u001b[0;34m)\u001b[0m\u001b[0;34m\u001b[0m\u001b[0m\n\u001b[0m\u001b[1;32m   2531\u001b[0m         \u001b[0mexclusive_fp\u001b[0m \u001b[0;34m=\u001b[0m \u001b[0;32mTrue\u001b[0m\u001b[0;34m\u001b[0m\u001b[0m\n\u001b[1;32m   2532\u001b[0m \u001b[0;34m\u001b[0m\u001b[0m\n",
      "\u001b[0;31mFileNotFoundError\u001b[0m: [Errno 2] No such file or directory: 'test_images/solidWhiteRight.jpg'"
     ]
    }
   ],
   "source": [
    "#reading in an image\n",
    "image = mpimg.imread('test_images/solidWhiteRight.jpg')\n",
    "\n",
    "#printing out some stats and plotting\n",
    "print('This image is:', type(image), 'with dimensions:', image.shape)\n",
    "plt.imshow(image)  # if you wanted to show a single color channel image called 'gray', for example, call as plt.imshow(gray, cmap='gray')"
   ]
  },
  {
   "cell_type": "markdown",
   "metadata": {},
   "source": [
    "## Ideas for Lane Detection Pipeline"
   ]
  },
  {
   "cell_type": "markdown",
   "metadata": {},
   "source": [
    "**Some OpenCV functions (beyond those introduced in the lesson) that might be useful for this project are:**\n",
    "\n",
    "`cv2.inRange()` for color selection  \n",
    "`cv2.fillPoly()` for regions selection  \n",
    "`cv2.line()` to draw lines on an image given endpoints  \n",
    "`cv2.addWeighted()` to coadd / overlay two images  \n",
    "`cv2.cvtColor()` to grayscale or change color  \n",
    "`cv2.imwrite()` to output images to file  \n",
    "`cv2.bitwise_and()` to apply a mask to an image\n",
    "\n",
    "**Check out the OpenCV documentation to learn about these and discover even more awesome functionality!**"
   ]
  },
  {
   "cell_type": "markdown",
   "metadata": {},
   "source": [
    "## Helper Functions"
   ]
  },
  {
   "cell_type": "markdown",
   "metadata": {},
   "source": [
    "Below are some helper functions to help get you started. They should look familiar from the lesson!"
   ]
  },
  {
   "cell_type": "code",
   "execution_count": 14,
   "metadata": {},
   "outputs": [],
   "source": [
    "import math\n",
    "\n",
    "def grayscale(img):\n",
    "    \"\"\"Applies the Grayscale transform\n",
    "    This will return an image with only one color channel\n",
    "    but NOTE: to see the returned image as grayscale\n",
    "    (assuming your grayscaled image is called 'gray')\n",
    "    you should call plt.imshow(gray, cmap='gray')\"\"\"\n",
    "    return cv2.cvtColor(img, cv2.COLOR_RGB2GRAY)\n",
    "    # Or use BGR2GRAY if you read an image with cv2.imread()\n",
    "    # return cv2.cvtColor(img, cv2.COLOR_BGR2GRAY)\n",
    "    \n",
    "def canny(img, low_threshold, high_threshold):\n",
    "    \"\"\"Applies the Canny transform\"\"\"\n",
    "    return cv2.Canny(img, low_threshold, high_threshold)\n",
    "\n",
    "def gaussian_blur(img, kernel_size):\n",
    "    \"\"\"Applies a Gaussian Noise kernel\"\"\"\n",
    "    return cv2.GaussianBlur(img, (kernel_size, kernel_size), 0)\n",
    "\n",
    "def region_of_interest(img, vertices):\n",
    "    \"\"\"\n",
    "    Applies an image mask.\n",
    "    \n",
    "    Only keeps the region of the image defined by the polygon\n",
    "    formed from `vertices`. The rest of the image is set to black.\n",
    "    `vertices` should be a numpy array of integer points.\n",
    "    \"\"\"\n",
    "    #defining a blank mask to start with\n",
    "    mask = np.zeros_like(img)   \n",
    "    \n",
    "    #defining a 3 channel or 1 channel color to fill the mask with depending on the input image\n",
    "    if len(img.shape) > 2:\n",
    "        channel_count = img.shape[2]  # i.e. 3 or 4 depending on your image\n",
    "        ignore_mask_color = (255,) * channel_count\n",
    "    else:\n",
    "        ignore_mask_color = 255\n",
    "        \n",
    "    #filling pixels inside the polygon defined by \"vertices\" with the fill color    \n",
    "    cv2.fillPoly(mask, np.int32([vertices]), ignore_mask_color)\n",
    "    \n",
    "    #returning the image only where mask pixels are nonzero\n",
    "    masked_image = cv2.bitwise_and(img, mask)\n",
    "    return masked_image\n",
    "\n",
    "def chk_and_get_slope_intercept(x1, y1, x2, y2):\n",
    "    \"\"\"\n",
    "    Finds slope of all lines detected by hough transform to determine if a line is vertical or horizontal.\n",
    "    \n",
    "    Returns True if line is vertical and False if line is horizontal\n",
    "    \"\"\"\n",
    "\n",
    "    lane_side = \"invalid\"\n",
    "    slope = 0\n",
    "    intercept = 0\n",
    "\n",
    "    transformed_y1 = image.shape[0] - y1\n",
    "    transformed_y2 = image.shape[0] - y2\n",
    "    \n",
    "    if(transformed_y1 > transformed_y2):\n",
    "        top_x = x1\n",
    "        top_y = transformed_y1\n",
    "        bottom_x = x2\n",
    "        bottom_y = transformed_y2\n",
    "    else:\n",
    "        top_x = x2\n",
    "        top_y = transformed_y2\n",
    "        bottom_x = x1\n",
    "        bottom_y = transformed_y1\n",
    "    \n",
    "    if (top_x != bottom_x):\n",
    "        slope = (top_y-bottom_y)/(top_x-bottom_x)\n",
    "    \n",
    "        \n",
    "    if(abs(slope) > 0.5):\n",
    "\n",
    "        if(bottom_x <= image.shape[1]/2):\n",
    "            if(slope > 0):\n",
    "                intercept = bottom_y - (slope * bottom_x)                \n",
    "                lane_side = 'left'\n",
    "        else:\n",
    "            if(slope < 0):\n",
    "                intercept = bottom_y - (slope * bottom_x)\n",
    "                lane_side = 'right'\n",
    "\n",
    "                \n",
    "    return lane_side, slope, intercept\n",
    "\n",
    "def remove_outliers(lines, slope_avg, intercept_avg):\n",
    "    \n",
    "    clines = []\n",
    "    distance_from_mean = []\n",
    "    \n",
    "    for line in lines:\n",
    "        dist = math.sqrt((line[1] - slope_avg)**2 + \n",
    "                         ((line[2] - intercept_avg)**2))\n",
    "        distance_from_mean.append(dist)\n",
    "        clines.append([line[0]])\n",
    "    \n",
    "    print('distance from mean', distance_from_mean)\n",
    "    z = np.abs(stats.zscore(distance_from_mean))\n",
    "    print('z = ', z)\n",
    "    print(np.where(z > 0.5))\n",
    "        \n",
    "    print(np.array(clines)[np.where(z > 0.5)])\n",
    "        \n",
    "    return np.array(clines)[np.where(z < 0.5)]\n",
    "    \n",
    "\n",
    "def cleanup_lines(lines):\n",
    "    \"\"\"\n",
    "    Do the following clean-up\n",
    "    \n",
    "    1. Remove horizontal lines\n",
    "    2. Remove any outlier lines that are not part of the lane\n",
    "    \n",
    "    \"\"\"\n",
    "    valid_lines = []\n",
    "    left_lane_lines = []\n",
    "    right_lane_lines = []\n",
    "    \n",
    "    left_slope_sum = 0\n",
    "    left_intercept_sum = 0\n",
    "    left_slope_avg = 0\n",
    "    left_intercept_avg = 0\n",
    "    right_slope_sum = 0\n",
    "    right_intercept_sum = 0\n",
    "    right_slope_avg = 0\n",
    "    right_intercept_avg = 0\n",
    "    \n",
    "    for line in lines:\n",
    "#        print('original line type is:', type(line))\n",
    "#        print('original line shape is:', line.shape)\n",
    "#        print('original line = ', line)\n",
    "        for x1,y1,x2,y2 in line:\n",
    "            lane_side, slope, intercept = chk_and_get_slope_intercept(x1, y1, x2, y2)\n",
    "            if lane_side != 'invalid':\n",
    "                \n",
    "                print(x1,y1,x2,y2)\n",
    "                print('lane side = ', lane_side)\n",
    "                print('slope = ', slope)\n",
    "                print('intercept = ', intercept)\n",
    "                \n",
    "                if lane_side == 'left':\n",
    "                    left_lane_lines.append(((x1, y1, x2, y2), slope, intercept))\n",
    "                    left_slope_sum += slope\n",
    "                    left_intercept_sum += intercept\n",
    "                    print(\"left slope sum = \", left_slope_sum)\n",
    "                    print(\"left intercept sum = \", left_intercept_sum)\n",
    "                else:\n",
    "                    right_lane_lines.append(((x1, y1, x2, y2), slope, intercept))\n",
    "                    right_slope_sum += slope\n",
    "                    right_intercept_sum += intercept\n",
    "                    print(\"right slope sum = \", right_slope_sum)\n",
    "                    print(\"right intercept sum = \", right_intercept_sum)\n",
    "                    \n",
    "    if len(left_lane_lines) > 0:\n",
    "        left_slope_avg = left_slope_sum / len(left_lane_lines)\n",
    "        left_intercept_avg = left_intercept_sum / len(left_lane_lines)\n",
    "    if len(right_lane_lines) > 0:\n",
    "        right_slope_avg = right_slope_sum / len(right_lane_lines)\n",
    "        right_intercept_avg = right_intercept_sum / len(right_lane_lines)\n",
    "        \n",
    "\n",
    "#    print(\"No. of left lane line = \", len(left_lane_lines))\n",
    "#    print(\"Accumulated left slope, intecept = \", left_slope_sum, \" \", left_intercept_sum)\n",
    "#    print(\"left avg slope and intercept = \", left_slope_avg, \" \", left_intercept_avg)\n",
    "    print(\"No. of right lane line = \", len(right_lane_lines))\n",
    "    print(\"Accumulated right slope, intecept = \", right_slope_sum, \" \", right_intercept_sum)\n",
    "    print(\"right avg slope and intercept = \", right_slope_avg, \" \", right_intercept_avg)\n",
    "\n",
    "    \n",
    "#    cleaned_left_lane_lines = remove_outliers(left_lane_lines, left_slope_avg, left_intercept_avg)\n",
    "    cleaned_right_lane_lines = remove_outliers(right_lane_lines, right_slope_avg, right_intercept_avg)\n",
    "#    print('left line type = ', cleaned_left_lane_lines.shape)\n",
    "#    print('right line shape = ', cleaned_right_lane_lines.shape)\n",
    "#    valid_lines = np.concatenate((cleaned_left_lane_lines, cleaned_right_lane_lines))\n",
    "\n",
    "#    return valid_lines\n",
    "    return cleaned_right_lane_lines\n",
    "\n",
    "def draw_lines(img, lines, color=[255, 0, 0], thickness=2):\n",
    "    \"\"\"\n",
    "    NOTE: this is the function you might want to use as a starting point once you want to \n",
    "    average/extrapolate the line segments you detect to map out the full\n",
    "    extent of the lane (going from the result shown in raw-lines-example.mp4\n",
    "    to that shown in P1_example.mp4).  \n",
    "    \n",
    "    Think about things like separating line segments by their \n",
    "    slope ((y2-y1)/(x2-x1)) to decide which segments are part of the left\n",
    "    line vs. the right line.  Then, you can average the position of each of \n",
    "    the lines and extrapolate to the top and bottom of the lane.\n",
    "    \n",
    "    This function draws `lines` with `color` and `thickness`.    \n",
    "    Lines are drawn on the image inplace (mutates the image).\n",
    "    If you want to make the lines semi-transparent, think about combining\n",
    "    this function with the weighted_img() function below\n",
    "    \"\"\"\n",
    "    valid_lines = cleanup_lines(lines)\n",
    "    \n",
    "    for line in valid_lines:\n",
    "#        print('line type is:', type(line))\n",
    "#        print('line shape is:', line.shape)\n",
    "#        print('line = ', line)\n",
    "        for x1,y1,x2,y2 in line:\n",
    "            print(x1,y1,x2,y2)\n",
    "            cv2.line(img, (x1, y1), (x2, y2), color, thickness)\n",
    "\n",
    "def hough_lines(img, rho, theta, threshold, min_line_len, max_line_gap):\n",
    "    \"\"\"\n",
    "    `img` should be the output of a Canny transform.\n",
    "        \n",
    "    Returns an image with hough lines drawn.\n",
    "    \"\"\"\n",
    "    lines = cv2.HoughLinesP(img, rho, theta, threshold, np.array([]), minLineLength=min_line_len, maxLineGap=max_line_gap)\n",
    "    line_img = np.zeros((img.shape[0], img.shape[1], 3), dtype=np.uint8)\n",
    "    draw_lines(line_img, lines)\n",
    "    return line_img\n",
    "\n",
    "# Python 3 has support for cool math symbols.\n",
    "\n",
    "def weighted_img(img, initial_img, α=0.8, β=1., γ=0.):\n",
    "    \"\"\"\n",
    "    `img` is the output of the hough_lines(), An image with lines drawn on it.\n",
    "    Should be a blank image (all black) with lines drawn on it.\n",
    "    \n",
    "    `initial_img` should be the image before any processing.\n",
    "    \n",
    "    The result image is computed as follows:\n",
    "    \n",
    "    initial_img * α + img * β + γ\n",
    "    NOTE: initial_img and img must be the same shape!\n",
    "    \"\"\"\n",
    "    return cv2.addWeighted(initial_img, α, img, β, γ)"
   ]
  },
  {
   "cell_type": "markdown",
   "metadata": {},
   "source": [
    "## Test Images\n",
    "\n",
    "Build your pipeline to work on the images in the directory \"test_images\"  \n",
    "**You should make sure your pipeline works well on these images before you try the videos.**"
   ]
  },
  {
   "cell_type": "code",
   "execution_count": 6,
   "metadata": {},
   "outputs": [
    {
     "data": {
      "text/plain": [
       "['solidWhiteCurve.jpg']"
      ]
     },
     "execution_count": 6,
     "metadata": {},
     "output_type": "execute_result"
    }
   ],
   "source": [
    "import os\n",
    "os.listdir(\"test_images/\")"
   ]
  },
  {
   "cell_type": "markdown",
   "metadata": {},
   "source": [
    "## Build a Lane Finding Pipeline\n",
    "\n"
   ]
  },
  {
   "cell_type": "markdown",
   "metadata": {},
   "source": [
    "Build the pipeline and run your solution on all test_images. Make copies into the `test_images_output` directory, and you can use the images in your writeup report.\n",
    "\n",
    "Try tuning the various parameters, especially the low and high Canny thresholds as well as the Hough lines parameters."
   ]
  },
  {
   "cell_type": "code",
   "execution_count": 13,
   "metadata": {},
   "outputs": [
    {
     "name": "stdout",
     "output_type": "stream",
     "text": [
      "solidWhiteCurve.jpg\n",
      "412 270 897 538\n",
      "lane side =  right\n",
      "slope =  -0.552577319588\n",
      "intercept =  497.66185567\n",
      "right slope sum =  -0.552577319588\n",
      "right intercept sum =  497.66185567\n",
      "412 269 898 538\n",
      "lane side =  right\n",
      "slope =  -0.553497942387\n",
      "intercept =  499.041152263\n",
      "right slope sum =  -1.10607526197\n",
      "right intercept sum =  996.703007933\n",
      "431 281 877 538\n",
      "lane side =  right\n",
      "slope =  -0.576233183857\n",
      "intercept =  507.356502242\n",
      "right slope sum =  -1.68230844583\n",
      "right intercept sum =  1504.05951018\n",
      "280 460 347 410\n",
      "lane side =  left\n",
      "slope =  0.746268656716\n",
      "intercept =  -128.955223881\n",
      "left slope sum =  0.746268656716\n",
      "left intercept sum =  -128.955223881\n",
      "389 382 511 283\n",
      "lane side =  left\n",
      "slope =  0.811475409836\n",
      "intercept =  -157.663934426\n",
      "left slope sum =  1.55774406655\n",
      "left intercept sum =  -286.619158307\n",
      "293 462 353 412\n",
      "lane side =  left\n",
      "slope =  0.833333333333\n",
      "intercept =  -166.166666667\n",
      "left slope sum =  2.39107739989\n",
      "left intercept sum =  -452.785824973\n",
      "690 447 765 496\n",
      "lane side =  right\n",
      "slope =  -0.653333333333\n",
      "intercept =  543.8\n",
      "right slope sum =  -2.33564177916\n",
      "right intercept sum =  2047.85951018\n",
      "281 459 346 410\n",
      "lane side =  left\n",
      "slope =  0.753846153846\n",
      "intercept =  -130.830769231\n",
      "left slope sum =  3.14492355373\n",
      "left intercept sum =  -583.616594204\n",
      "925 239 937 322\n",
      "lane side =  right\n",
      "slope =  -6.91666666667\n",
      "intercept =  6698.91666667\n",
      "right slope sum =  -9.25230844583\n",
      "right intercept sum =  8746.77617684\n",
      "835 201 840 296\n",
      "lane side =  right\n",
      "slope =  -19.0\n",
      "intercept =  16204.0\n",
      "right slope sum =  -28.2523084458\n",
      "right intercept sum =  24950.7761768\n",
      "692 448 776 501\n",
      "lane side =  right\n",
      "slope =  -0.630952380952\n",
      "intercept =  528.619047619\n",
      "right slope sum =  -28.8832608268\n",
      "right intercept sum =  25479.3952245\n",
      "405 364 522 285\n",
      "lane side =  left\n",
      "slope =  0.675213675214\n",
      "intercept =  -97.4615384615\n",
      "left slope sum =  3.82013722895\n",
      "left intercept sum =  -681.078132666\n",
      "839 202 857 282\n",
      "lane side =  right\n",
      "slope =  -4.44444444444\n",
      "intercept =  4066.88888889\n",
      "right slope sum =  -33.3277052712\n",
      "right intercept sum =  29546.2841134\n",
      "848 225 864 315\n",
      "lane side =  right\n",
      "slope =  -5.625\n",
      "intercept =  5085.0\n",
      "right slope sum =  -38.9527052712\n",
      "right intercept sum =  34631.2841134\n",
      "816 504 876 538\n",
      "lane side =  right\n",
      "slope =  -0.566666666667\n",
      "intercept =  498.4\n",
      "right slope sum =  -39.5193719379\n",
      "right intercept sum =  35129.6841134\n",
      "450 287 522 335\n",
      "lane side =  right\n",
      "slope =  -0.666666666667\n",
      "intercept =  553.0\n",
      "right slope sum =  -40.1860386046\n",
      "right intercept sum =  35682.6841134\n",
      "405 363 500 294\n",
      "lane side =  left\n",
      "slope =  0.726315789474\n",
      "intercept =  -117.157894737\n",
      "left slope sum =  4.54645301842\n",
      "left intercept sum =  -798.236027403\n",
      "388 382 486 308\n",
      "lane side =  left\n",
      "slope =  0.755102040816\n",
      "intercept =  -134.979591837\n",
      "left slope sum =  5.30155505924\n",
      "left intercept sum =  -933.215619239\n",
      "No. of right lane line =  11\n",
      "Accumulated right slope, intecept =  -40.1860386046   35682.6841134\n",
      "right avg slope and intercept =  -3.65327623678   3243.88037394\n",
      "distance from mean [2746.220268737997, 2744.840971984521, 2736.5256016655903, 2700.082040494033, 3455.037833912835, 12960.128712466236, 2715.263008377045, 823.0088952277347, 1841.120681855072, 2745.4821090026194, 2690.8820313602023]\n",
      "z =  [ 0.23549977  0.2359492   0.23865869  0.25053353  0.00453738  3.09261852\n",
      "  0.24558693  0.86216242  0.53041904  0.23574029  0.25353128]\n",
      "(array([5]),)\n",
      "[[[835 201 840 296]]\n",
      "\n",
      " [[839 202 857 282]]\n",
      "\n",
      " [[848 225 864 315]]]\n",
      "412 270 897 538\n",
      "412 269 898 538\n",
      "431 281 877 538\n",
      "690 447 765 496\n",
      "925 239 937 322\n",
      "692 448 776 501\n",
      "816 504 876 538\n",
      "450 287 522 335\n"
     ]
    },
    {
     "data": {
      "image/png": "[encoded data removed]",
      "text/plain": [
       "<matplotlib.figure.Figure at 0x7fd864d24400>"
      ]
     },
     "metadata": {
      "needs_background": "light"
     },
     "output_type": "display_data"
    }
   ],
   "source": [
    "# TODO: Build your pipeline that will draw lane lines on the test_images\n",
    "# then save them to the test_images_output directory.\n",
    "\n",
    "canny_low_threshold = 20\n",
    "canny_high_threshold = 80\n",
    "\n",
    "blur_kernel_size = 5\n",
    "\n",
    "hough_rho = 1\n",
    "hough_theta = np.pi/180\n",
    "hough_threshold = 20\n",
    "hough_min_line_length = 50                                                                                                                                                                                                                                                                                                                                                                                                                                                                                                                                                                                                                                                                                                                                                                                                                                                                                                                                                                                                                                                                                                                                                                                                                                                                                                                                                                                                                                                                                                                                                                                                                                                                                                                                                                                                                                                                                                                                                                                                                                                                                                                                                                                                                                                                                                                                                                                                                                                                                                                                                                                                                                                                                                                                                                                                                                                                                                                                                                                                                                                                                                                                                                                                                                                                                                                                                                                                                                                                                                                                                                                                                                                                                                                                                                                                                                                                                                                                                                                                                                                                                                                                                                                                                                                                                                                                                                                                                                                                                                                                                                                                                                                                                                                                                                                                                                                                                                                                                                                                                                                                                                                                                                                                                                                                                                                                                                                                                                                                                                                                                                                                                                                                                                                                                                                                                                                                                                                                                                                                                                                                                                                                                                                                                                                                                                                                                                                                                                                                                                                                                                                                                                                                                                                                                                                                                                                                                                                                                                                                                                                                                                                                           \n",
    "hough_max_line_gap = 30\n",
    "\n",
    "roi_left_top = [410, 330]\n",
    "roi_right_top = [550, 330]\n",
    "roi_right_bottom = [910, 539]\n",
    "roi_left_bottom = [130, 539]\n",
    "\n",
    "vertices = np.array([roi_left_bottom,roi_left_top,roi_right_top,roi_right_bottom], np.int32)\n",
    "\n",
    "for image_file in os.listdir(\"test_images/\"):\n",
    "    image = mpimg.imread(\"test_images/\"+image_file)\n",
    "    print(image_file)\n",
    "    gray_image = grayscale(image)\n",
    "    gray_blur_image = gaussian_blur(gray_image,blur_kernel_size)\n",
    "    canny_image = canny(gray_blur_image, canny_low_threshold, canny_high_threshold)\n",
    "    line_image = hough_lines(canny_image, hough_rho, hough_theta, hough_threshold,\n",
    "                        hough_min_line_length, hough_max_line_gap)\n",
    "    roi_image = region_of_interest(line_image, vertices)\n",
    "    marked_image = weighted_img(roi_image, image, α=0.8, β=1., γ=0.)\n",
    "    \n",
    "    mpimg.imsave('test_images_output/'+image_file, marked_image,format='jpeg')\n",
    "    plt.imshow(line_image)\n",
    "    plt.show()    \n",
    "    \n",
    "    "
   ]
  },
  {
   "cell_type": "markdown",
   "metadata": {},
   "source": [
    "## Test on Videos\n",
    "\n",
    "You know what's cooler than drawing lanes over images? Drawing lanes over video!\n",
    "\n",
    "We can test our solution on two provided videos:\n",
    "\n",
    "`solidWhiteRight.mp4`\n",
    "\n",
    "`solidYellowLeft.mp4`\n",
    "\n",
    "**Note: if you get an import error when you run the next cell, try changing your kernel (select the Kernel menu above --> Change Kernel). Still have problems? Try relaunching Jupyter Notebook from the terminal prompt. Also, consult the forums for more troubleshooting tips.**\n",
    "\n",
    "**If you get an error that looks like this:**\n",
    "```\n",
    "NeedDownloadError: Need ffmpeg exe. \n",
    "You can download it by calling: \n",
    "imageio.plugins.ffmpeg.download()\n",
    "```\n",
    "**Follow the instructions in the error message and check out [this forum post](https://discussions.udacity.com/t/project-error-of-test-on-videos/274082) for more troubleshooting tips across operating systems.**"
   ]
  },
  {
   "cell_type": "code",
   "execution_count": null,
   "metadata": {},
   "outputs": [],
   "source": [
    "# Import everything needed to edit/save/watch video clips\n",
    "from moviepy.editor import VideoFileClip\n",
    "from IPython.display import HTML"
   ]
  },
  {
   "cell_type": "code",
   "execution_count": null,
   "metadata": {},
   "outputs": [],
   "source": [
    "def process_image(image):\n",
    "    # NOTE: The output you return should be a color image (3 channel) for processing video below\n",
    "    # TODO: put your pipeline here,\n",
    "    # you should return the final output (image where lines are drawn on lanes)\n",
    "\n",
    "    return result"
   ]
  },
  {
   "cell_type": "markdown",
   "metadata": {},
   "source": [
    "Let's try the one with the solid white lane on the right first ..."
   ]
  },
  {
   "cell_type": "code",
   "execution_count": null,
   "metadata": {},
   "outputs": [],
   "source": [
    "white_output = 'test_videos_output/solidWhiteRight.mp4'\n",
    "## To speed up the testing process you may want to try your pipeline on a shorter subclip of the video\n",
    "## To do so add .subclip(start_second,end_second) to the end of the line below\n",
    "## Where start_second and end_second are integer values representing the start and end of the subclip\n",
    "## You may also uncomment the following line for a subclip of the first 5 seconds\n",
    "##clip1 = VideoFileClip(\"test_videos/solidWhiteRight.mp4\").subclip(0,5)\n",
    "clip1 = VideoFileClip(\"test_videos/solidWhiteRight.mp4\")\n",
    "white_clip = clip1.fl_image(process_image) #NOTE: this function expects color images!!\n",
    "%time white_clip.write_videofile(white_output, audio=False)"
   ]
  },
  {
   "cell_type": "markdown",
   "metadata": {},
   "source": [
    "Play the video inline, or if you prefer find the video in your filesystem (should be in the same directory) and play it in your video player of choice."
   ]
  },
  {
   "cell_type": "code",
   "execution_count": null,
   "metadata": {},
   "outputs": [],
   "source": [
    "HTML(\"\"\"\n",
    "<video width=\"960\" height=\"540\" controls>\n",
    "  <source src=\"{0}\">\n",
    "</video>\n",
    "\"\"\".format(white_output))"
   ]
  },
  {
   "cell_type": "markdown",
   "metadata": {},
   "source": [
    "## Improve the draw_lines() function\n",
    "\n",
    "**At this point, if you were successful with making the pipeline and tuning parameters, you probably have the Hough line segments drawn onto the road, but what about identifying the full extent of the lane and marking it clearly as in the example video (P1_example.mp4)?  Think about defining a line to run the full length of the visible lane based on the line segments you identified with the Hough Transform. As mentioned previously, try to average and/or extrapolate the line segments you've detected to map out the full extent of the lane lines. You can see an example of the result you're going for in the video \"P1_example.mp4\".**\n",
    "\n",
    "**Go back and modify your draw_lines function accordingly and try re-running your pipeline. The new output should draw a single, solid line over the left lane line and a single, solid line over the right lane line. The lines should start from the bottom of the image and extend out to the top of the region of interest.**"
   ]
  },
  {
   "cell_type": "markdown",
   "metadata": {},
   "source": [
    "Now for the one with the solid yellow lane on the left. This one's more tricky!"
   ]
  },
  {
   "cell_type": "code",
   "execution_count": null,
   "metadata": {},
   "outputs": [],
   "source": [
    "yellow_output = 'test_videos_output/solidYellowLeft.mp4'\n",
    "## To speed up the testing process you may want to try your pipeline on a shorter subclip of the video\n",
    "## To do so add .subclip(start_second,end_second) to the end of the line below\n",
    "## Where start_second and end_second are integer values representing the start and end of the subclip\n",
    "## You may also uncomment the following line for a subclip of the first 5 seconds\n",
    "##clip2 = VideoFileClip('test_videos/solidYellowLeft.mp4').subclip(0,5)\n",
    "clip2 = VideoFileClip('test_videos/solidYellowLeft.mp4')\n",
    "yellow_clip = clip2.fl_image(process_image)\n",
    "%time yellow_clip.write_videofile(yellow_output, audio=False)"
   ]
  },
  {
   "cell_type": "code",
   "execution_count": null,
   "metadata": {},
   "outputs": [],
   "source": [
    "HTML(\"\"\"\n",
    "<video width=\"960\" height=\"540\" controls>\n",
    "  <source src=\"{0}\">\n",
    "</video>\n",
    "\"\"\".format(yellow_output))"
   ]
  },
  {
   "cell_type": "markdown",
   "metadata": {},
   "source": [
    "## Writeup and Submission\n",
    "\n",
    "If you're satisfied with your video outputs, it's time to make the report writeup in a pdf or markdown file. Once you have this Ipython notebook ready along with the writeup, it's time to submit for review! Here is a [link](https://github.com/udacity/CarND-LaneLines-P1/blob/master/writeup_template.md) to the writeup template file.\n"
   ]
  },
  {
   "cell_type": "markdown",
   "metadata": {
    "collapsed": true
   },
   "source": [
    "## Optional Challenge\n",
    "\n",
    "Try your lane finding pipeline on the video below.  Does it still work?  Can you figure out a way to make it more robust?  If you're up for the challenge, modify your pipeline so it works with this video and submit it along with the rest of your project!"
   ]
  },
  {
   "cell_type": "code",
   "execution_count": null,
   "metadata": {},
   "outputs": [],
   "source": [
    "challenge_output = 'test_videos_output/challenge.mp4'\n",
    "## To speed up the testing process you may want to try your pipeline on a shorter subclip of the video\n",
    "## To do so add .subclip(start_second,end_second) to the end of the line below\n",
    "## Where start_second and end_second are integer values representing the start and end of the subclip\n",
    "## You may also uncomment the following line for a subclip of the first 5 seconds\n",
    "##clip3 = VideoFileClip('test_videos/challenge.mp4').subclip(0,5)\n",
    "clip3 = VideoFileClip('test_videos/challenge.mp4')\n",
    "challenge_clip = clip3.fl_image(process_image)\n",
    "%time challenge_clip.write_videofile(challenge_output, audio=False)"
   ]
  },
  {
   "cell_type": "code",
   "execution_count": null,
   "metadata": {},
   "outputs": [],
   "source": [
    "HTML(\"\"\"\n",
    "<video width=\"960\" height=\"540\" controls>\n",
    "  <source src=\"{0}\">\n",
    "</video>\n",
    "\"\"\".format(challenge_output))"
   ]
  }
 ],
 "metadata": {
  "anaconda-cloud": {},
  "kernelspec": {
   "display_name": "Python 3",
   "language": "python",
   "name": "python3"
  },
  "language_info": {
   "codemirror_mode": {
    "name": "ipython",
    "version": 3
   },
   "file_extension": ".py",
   "mimetype": "text/x-python",
   "name": "python",
   "nbconvert_exporter": "python",
   "pygments_lexer": "ipython3",
   "version": "3.5.2"
  },
  "widgets": {
   "state": {},
   "version": "1.1.2"
  }
 },
 "nbformat": 4,
 "nbformat_minor": 1
}
